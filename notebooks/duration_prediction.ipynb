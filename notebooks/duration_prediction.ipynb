{
 "cells": [
  {
   "cell_type": "code",
   "execution_count": 1,
   "id": "b855a1e6-37ec-44af-9696-76eae2d4a6ec",
   "metadata": {},
   "outputs": [
    {
     "name": "stdout",
     "output_type": "stream",
     "text": [
      "Python 3.9.6\n"
     ]
    }
   ],
   "source": [
    "!python -V"
   ]
  },
  {
   "cell_type": "code",
   "execution_count": 79,
   "id": "0d4d9d99-f57a-493f-8635-ab175acd5533",
   "metadata": {},
   "outputs": [],
   "source": [
    "import pandas as pd\n",
    "import seaborn as sns\n",
    "import matplotlib.pyplot as plt\n",
    "import pickle\n",
    "from sklearn.feature_extraction import DictVectorizer\n",
    "from sklearn.linear_model import LinearRegression, Lasso, Ridge\n",
    "from sklearn.metrics import root_mean_squared_error"
   ]
  },
  {
   "cell_type": "code",
   "execution_count": 50,
   "id": "f055f08b-58c1-443c-8389-94ebcf69c5fd",
   "metadata": {},
   "outputs": [],
   "source": [
    "def read_data_frame(filename):\n",
    "\n",
    "    df = pd.read_parquet(f\"../data/{filename}\")\n",
    "    \n",
    "    df['duration'] = df.lpep_dropoff_datetime - df.lpep_pickup_datetime\n",
    "    df.duration = df.duration.apply(lambda td: td.total_seconds() / 60)\n",
    "    df = df[(df.duration >= 1) & (df.duration <= 60)]\n",
    "    \n",
    "    categorical = ['PULocationID', 'DOLocationID']\n",
    "    # numerical = ['trip_distance']\n",
    "    df[categorical] = df[categorical].astype(str)\n",
    "    \n",
    "    return df"
   ]
  },
  {
   "cell_type": "code",
   "execution_count": 51,
   "id": "bf19632d-1e7c-497a-acb9-043cdd0fa149",
   "metadata": {},
   "outputs": [],
   "source": [
    "df_train = read_data_frame('green_tripdata_2021-01.parquet')\n",
    "df_val = read_data_frame('green_tripdata_2021-02.parquet')"
   ]
  },
  {
   "cell_type": "code",
   "execution_count": 52,
   "id": "4d928fc0-b816-4c70-976a-0b47423273f5",
   "metadata": {},
   "outputs": [
    {
     "data": {
      "text/plain": [
       "(73908, 61921)"
      ]
     },
     "execution_count": 52,
     "metadata": {},
     "output_type": "execute_result"
    }
   ],
   "source": [
    "len(df_train), len(df_val)"
   ]
  },
  {
   "cell_type": "code",
   "execution_count": 5,
   "id": "5b6c7be7-40b9-4087-b851-eabe4e6570a5",
   "metadata": {},
   "outputs": [],
   "source": [
    "# df_dispatch = df[df.trip_type==2]"
   ]
  },
  {
   "cell_type": "code",
   "execution_count": 53,
   "id": "b7a66cf1-a2ec-44bd-9b25-67dbfb09503a",
   "metadata": {},
   "outputs": [],
   "source": [
    "# sns.displot(df.duration)"
   ]
  },
  {
   "cell_type": "code",
   "execution_count": 54,
   "id": "d1921ee5-9b31-4778-a2ae-ffaaa153aba2",
   "metadata": {},
   "outputs": [],
   "source": [
    "# df.duration.describe()"
   ]
  },
  {
   "cell_type": "code",
   "execution_count": 55,
   "id": "fb06901f-5205-4fe4-9930-404a1b001933",
   "metadata": {},
   "outputs": [],
   "source": [
    "# df.duration.describe(percentiles=[0.95, 0.98, 0.99])"
   ]
  },
  {
   "cell_type": "code",
   "execution_count": 56,
   "id": "58859a57-b5e6-40a4-8b41-f0a43d541de1",
   "metadata": {},
   "outputs": [],
   "source": [
    "## categorical shall be string\n",
    "# df[categorical].dtypes"
   ]
  },
  {
   "cell_type": "code",
   "execution_count": 57,
   "id": "9917395d-38e1-4a88-90a1-96897a1fbbbc",
   "metadata": {},
   "outputs": [],
   "source": [
    "categorical = ['PULocationID', 'DOLocationID']\n",
    "numerical = ['trip_distance']\n",
    "\n",
    "dv = DictVectorizer()\n",
    "\n",
    "train_dicts = df_train[categorical + numerical].to_dict(orient='records')\n",
    "X_train = dv.fit_transform(train_dicts)\n",
    "\n",
    "val_dicts = df_val[categorical + numerical].to_dict(orient='records')\n",
    "X_val = dv.transform(val_dicts)"
   ]
  },
  {
   "cell_type": "code",
   "execution_count": 58,
   "id": "0ffbd5c3-cf83-4ac9-ba65-13e42cd2af5b",
   "metadata": {},
   "outputs": [],
   "source": [
    "target = 'duration'\n",
    "y_train = df_train[target].values\n",
    "y_val = df_val[target].values"
   ]
  },
  {
   "cell_type": "code",
   "execution_count": 59,
   "id": "52e18d5b-0442-47dd-bcb8-c66999e2688e",
   "metadata": {},
   "outputs": [
    {
     "data": {
      "text/plain": [
       "10.499110709994794"
      ]
     },
     "execution_count": 59,
     "metadata": {},
     "output_type": "execute_result"
    }
   ],
   "source": [
    "lr = LinearRegression()\n",
    "lr.fit(X_train, y_train)\n",
    "\n",
    "y_pred = lr.predict(X_val)\n",
    "\n",
    "root_mean_squared_error(y_val, y_pred)"
   ]
  },
  {
   "cell_type": "code",
   "execution_count": 60,
   "id": "e0b4081c-cceb-4c68-ad26-c4377e907bac",
   "metadata": {},
   "outputs": [],
   "source": [
    "# dv.feature_names_"
   ]
  },
  {
   "cell_type": "code",
   "execution_count": 61,
   "id": "f1c2a2a2-c36a-49ff-877f-db25bf8d5831",
   "metadata": {},
   "outputs": [],
   "source": [
    "# sns.distplot(y_pred, label='prediction')\n",
    "# sns.distplot(y_train, label='actual')\n",
    "\n",
    "# plt.legend()\n"
   ]
  },
  {
   "cell_type": "code",
   "execution_count": 62,
   "id": "81dba059-0867-4bf0-abd2-cc3999d10a8a",
   "metadata": {},
   "outputs": [
    {
     "data": {
      "text/plain": [
       "12.212583224318818"
      ]
     },
     "execution_count": 62,
     "metadata": {},
     "output_type": "execute_result"
    }
   ],
   "source": [
    "lasso = Lasso()\n",
    "lasso.fit(X_train, y_train)\n",
    "\n",
    "y_pred = lasso.predict(X_val)\n",
    "\n",
    "root_mean_squared_error(y_val, y_pred)"
   ]
  },
  {
   "cell_type": "code",
   "execution_count": 64,
   "id": "9a074445-cfbb-46b5-b115-abbfb7a504ad",
   "metadata": {},
   "outputs": [
    {
     "data": {
      "text/plain": [
       "10.478171095742175"
      ]
     },
     "execution_count": 64,
     "metadata": {},
     "output_type": "execute_result"
    }
   ],
   "source": [
    "ridge = Ridge()\n",
    "ridge.fit(X_train, y_train)\n",
    "\n",
    "y_pred = ridge.predict(X_val)\n",
    "\n",
    "root_mean_squared_error(y_val, y_pred)"
   ]
  },
  {
   "cell_type": "code",
   "execution_count": 66,
   "id": "37e5ab1a-fc90-4545-bc10-bef3fa2d546e",
   "metadata": {},
   "outputs": [],
   "source": [
    "df_train[\"PU_DO\"] = df_train[\"PULocationID\"] + \"_\" + df_train[\"DOLocationID\"]\n",
    "df_val[\"PU_DO\"] = df_val[\"PULocationID\"] + \"_\" + df_val[\"DOLocationID\"]"
   ]
  },
  {
   "cell_type": "code",
   "execution_count": 67,
   "id": "ce18f335-41cc-4422-8353-58c2711dfcfd",
   "metadata": {},
   "outputs": [],
   "source": [
    "categorical = [\"PU_DO\"]\n",
    "numerical = ['trip_distance']\n",
    "\n",
    "dv = DictVectorizer()\n",
    "\n",
    "train_dicts = df_train[categorical + numerical].to_dict(orient='records')\n",
    "X_train = dv.fit_transform(train_dicts)\n",
    "\n",
    "val_dicts = df_val[categorical + numerical].to_dict(orient='records')\n",
    "X_val = dv.transform(val_dicts)"
   ]
  },
  {
   "cell_type": "code",
   "execution_count": 68,
   "id": "5018dc33-c832-4b1d-9717-df4af70c1666",
   "metadata": {},
   "outputs": [],
   "source": [
    "target = 'duration'\n",
    "y_train = df_train[target].values\n",
    "y_val = df_val[target].values"
   ]
  },
  {
   "cell_type": "code",
   "execution_count": 69,
   "id": "5aa0eee9-0028-40b5-a310-428133451988",
   "metadata": {},
   "outputs": [
    {
     "data": {
      "text/plain": [
       "7.7587152124560435"
      ]
     },
     "execution_count": 69,
     "metadata": {},
     "output_type": "execute_result"
    }
   ],
   "source": [
    "lr = LinearRegression()\n",
    "lr.fit(X_train, y_train)\n",
    "\n",
    "y_pred = lr.predict(X_val)\n",
    "\n",
    "root_mean_squared_error(y_val, y_pred)"
   ]
  },
  {
   "cell_type": "code",
   "execution_count": 70,
   "id": "38a47a6f-04e4-4baf-b1d1-8f4d758dce95",
   "metadata": {},
   "outputs": [
    {
     "data": {
      "text/plain": [
       "12.212583224318818"
      ]
     },
     "execution_count": 70,
     "metadata": {},
     "output_type": "execute_result"
    }
   ],
   "source": [
    "lasso = Lasso()\n",
    "lasso.fit(X_train, y_train)\n",
    "\n",
    "y_pred = lasso.predict(X_val)\n",
    "\n",
    "root_mean_squared_error(y_val, y_pred)"
   ]
  },
  {
   "cell_type": "code",
   "execution_count": 80,
   "id": "c1940613-2d2e-4147-b15b-d3b64849ee4d",
   "metadata": {},
   "outputs": [
    {
     "data": {
      "text/plain": [
       "7.616617761096093"
      ]
     },
     "execution_count": 80,
     "metadata": {},
     "output_type": "execute_result"
    }
   ],
   "source": [
    "lasso_alpha = Lasso(alpha=0.0001)\n",
    "lasso_alpha.fit(X_train, y_train)\n",
    "\n",
    "y_pred = lasso_alpha.predict(X_val)\n",
    "\n",
    "root_mean_squared_error(y_val, y_pred)"
   ]
  },
  {
   "cell_type": "code",
   "execution_count": 71,
   "id": "d321383e-b273-4aa4-b87c-ba41fb229f35",
   "metadata": {},
   "outputs": [
    {
     "data": {
      "text/plain": [
       "7.703735132744359"
      ]
     },
     "execution_count": 71,
     "metadata": {},
     "output_type": "execute_result"
    }
   ],
   "source": [
    "ridge = Ridge()\n",
    "ridge.fit(X_train, y_train)\n",
    "\n",
    "y_pred = ridge.predict(X_val)\n",
    "\n",
    "root_mean_squared_error(y_val, y_pred)"
   ]
  },
  {
   "cell_type": "code",
   "execution_count": 81,
   "id": "1ba9f1e3-d7c0-401c-8027-ed8e5036c630",
   "metadata": {},
   "outputs": [
    {
     "data": {
      "text/plain": [
       "7.51811006652168"
      ]
     },
     "execution_count": 81,
     "metadata": {},
     "output_type": "execute_result"
    }
   ],
   "source": [
    "ridge_alpha = Ridge(alpha=0.01)\n",
    "ridge_alpha.fit(X_train, y_train)\n",
    "\n",
    "y_pred = ridge_alpha.predict(X_val)\n",
    "\n",
    "root_mean_squared_error(y_val, y_pred)"
   ]
  },
  {
   "cell_type": "code",
   "execution_count": 82,
   "id": "67cf81b6-7df3-4c4f-adce-74d61db972b2",
   "metadata": {},
   "outputs": [],
   "source": [
    "with open('models/lasso.bin', 'wb') as f_output:\n",
    "    pickle.dump((dv, lasso_alpha), f_output)"
   ]
  },
  {
   "cell_type": "code",
   "execution_count": 83,
   "id": "09e61937-12a4-45f2-98c4-04c0a3fde5d3",
   "metadata": {},
   "outputs": [],
   "source": [
    "with open('models/ridge.bin', 'wb') as f_output:\n",
    "    pickle.dump((dv, ridge_alpha), f_output)"
   ]
  },
  {
   "cell_type": "code",
   "execution_count": null,
   "id": "0aadfeac-f40c-4192-8b8b-a0804eba5fd1",
   "metadata": {},
   "outputs": [],
   "source": []
  }
 ],
 "metadata": {
  "kernelspec": {
   "display_name": "Python 3 (ipykernel)",
   "language": "python",
   "name": "python3"
  },
  "language_info": {
   "codemirror_mode": {
    "name": "ipython",
    "version": 3
   },
   "file_extension": ".py",
   "mimetype": "text/x-python",
   "name": "python",
   "nbconvert_exporter": "python",
   "pygments_lexer": "ipython3",
   "version": "3.9.6"
  }
 },
 "nbformat": 4,
 "nbformat_minor": 5
}
